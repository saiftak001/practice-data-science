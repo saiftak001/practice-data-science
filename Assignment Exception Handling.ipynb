{
 "cells": [
  {
   "cell_type": "markdown",
   "metadata": {},
   "source": [
    "#### Solution 1"
   ]
  },
  {
   "cell_type": "code",
   "execution_count": 1,
   "metadata": {},
   "outputs": [
    {
     "name": "stdout",
     "output_type": "stream",
     "text": [
      "Please validate\n",
      "Finally\n"
     ]
    }
   ],
   "source": [
    "try:\n",
    "    value=5/0\n",
    "except:\n",
    "    print(\"Please validate\");\n",
    "else:\n",
    "    print(\"Great!\");\n",
    "finally:\n",
    "    print(\"Finally\")"
   ]
  },
  {
   "cell_type": "markdown",
   "metadata": {},
   "source": [
    "#### Solution 2"
   ]
  },
  {
   "cell_type": "code",
   "execution_count": 2,
   "metadata": {},
   "outputs": [
    {
     "name": "stdout",
     "output_type": "stream",
     "text": [
      "Americas   play   Baseball\n",
      "Americas   play   Cricket\n",
      "Americas   watch   Baseball\n",
      "Americas   watch   Cricket\n",
      "Indians   play   Baseball\n",
      "Indians   play   Cricket\n",
      "Indians   watch   Baseball\n",
      "Indians   watch   Cricket\n"
     ]
    }
   ],
   "source": [
    "subject = [\"Americas\", \"Indians\"];\n",
    "verbs = [\"play\", \"watch\"];\n",
    "objects = [\"Baseball\", \"Cricket\"];\n",
    "\n",
    "for sub in subject:\n",
    "    for verb in verbs:\n",
    "        for obj in objects:\n",
    "            print(sub,\" \", verb,\" \", obj)"
   ]
  }
 ],
 "metadata": {
  "kernelspec": {
   "display_name": "Python 3",
   "language": "python",
   "name": "python3"
  },
  "language_info": {
   "codemirror_mode": {
    "name": "ipython",
    "version": 3
   },
   "file_extension": ".py",
   "mimetype": "text/x-python",
   "name": "python",
   "nbconvert_exporter": "python",
   "pygments_lexer": "ipython3",
   "version": "3.7.4"
  }
 },
 "nbformat": 4,
 "nbformat_minor": 2
}
